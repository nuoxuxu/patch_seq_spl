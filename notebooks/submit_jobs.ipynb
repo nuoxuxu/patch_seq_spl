{
 "cells": [
  {
   "cell_type": "code",
   "execution_count": 1,
   "metadata": {},
   "outputs": [],
   "source": [
    "import pandas as pd\n",
    "from utility.utility import run_slurm\n",
    "from pathlib import Path"
   ]
  },
  {
   "cell_type": "code",
   "execution_count": 2,
   "metadata": {},
   "outputs": [],
   "source": [
    "ephys_prop_list = pd.read_csv(\"/scratch/s/shreejoy/nxu/CIHR/proc/ephys_data_tt.csv\", index_col=0).columns"
   ]
  },
  {
   "cell_type": "code",
   "execution_count": 3,
   "metadata": {},
   "outputs": [],
   "source": [
    "processed = [file.name.removesuffix(\".csv\") for file in Path(\"proc/GLM_subclass\").iterdir()]"
   ]
  },
  {
   "cell_type": "code",
   "execution_count": 4,
   "metadata": {},
   "outputs": [],
   "source": [
    "unprocessed = list(set(ephys_prop_list) - set(processed))"
   ]
  },
  {
   "cell_type": "code",
   "execution_count": 5,
   "metadata": {},
   "outputs": [
    {
     "name": "stdout",
     "output_type": "stream",
     "text": [
      "Submitted batch job 12360940 (\"rheo_width\")\n",
      "Submitted batch job 12360943 (\"rheo_upstroke_downstroke_ratio\")\n"
     ]
    }
   ],
   "source": [
    "for ephys_prop in unprocessed:\n",
    "    run_slurm(\n",
    "        cmd=f\"/scratch/s/shreejoy/nxu/CIHR/envs/bin/python /scratch/s/shreejoy/nxu/CIHR/scripts/run_regression_subclass.py {ephys_prop}\",\n",
    "        job_name=ephys_prop,\n",
    "        log_file=f\"/scratch/s/shreejoy/nxu/CIHR/slurm_logs/slurm_logs_subclass/{ephys_prop}.log\",\n",
    "        time=\"0-8:0\",\n",
    "        partition=\"compute\"\n",
    "    )"
   ]
  }
 ],
 "metadata": {
  "kernelspec": {
   "display_name": "Python 3",
   "language": "python",
   "name": "python3"
  },
  "language_info": {
   "codemirror_mode": {
    "name": "ipython",
    "version": 3
   },
   "file_extension": ".py",
   "mimetype": "text/x-python",
   "name": "python",
   "nbconvert_exporter": "python",
   "pygments_lexer": "ipython3",
   "version": "3.12.2"
  }
 },
 "nbformat": 4,
 "nbformat_minor": 2
}
