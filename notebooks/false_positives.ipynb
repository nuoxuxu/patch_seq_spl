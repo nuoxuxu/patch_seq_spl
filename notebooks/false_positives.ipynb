{
 "cells": [
  {
   "cell_type": "markdown",
   "metadata": {},
   "source": [
    "# Importing packages"
   ]
  },
  {
   "cell_type": "code",
   "execution_count": 1,
   "metadata": {},
   "outputs": [
    {
     "ename": "ModuleNotFoundError",
     "evalue": "No module named 'dask'",
     "output_type": "error",
     "traceback": [
      "\u001b[0;31m---------------------------------------------------------------------------\u001b[0m",
      "\u001b[0;31mModuleNotFoundError\u001b[0m                       Traceback (most recent call last)",
      "Cell \u001b[0;32mIn[1], line 2\u001b[0m\n\u001b[1;32m      1\u001b[0m \u001b[38;5;28;01mimport\u001b[39;00m \u001b[38;5;21;01mpandas\u001b[39;00m \u001b[38;5;28;01mas\u001b[39;00m \u001b[38;5;21;01mpd\u001b[39;00m\n\u001b[0;32m----> 2\u001b[0m \u001b[38;5;28;01mimport\u001b[39;00m \u001b[38;5;21;01mdask\u001b[39;00m\u001b[38;5;21;01m.\u001b[39;00m\u001b[38;5;21;01mdataframe\u001b[39;00m \u001b[38;5;28;01mas\u001b[39;00m \u001b[38;5;21;01mdd\u001b[39;00m\n\u001b[1;32m      3\u001b[0m \u001b[38;5;28;01mfrom\u001b[39;00m \u001b[38;5;21;01mpathlib\u001b[39;00m \u001b[38;5;28;01mimport\u001b[39;00m Path\n\u001b[1;32m      4\u001b[0m \u001b[38;5;28;01mimport\u001b[39;00m \u001b[38;5;21;01mjson\u001b[39;00m\n",
      "\u001b[0;31mModuleNotFoundError\u001b[0m: No module named 'dask'"
     ]
    }
   ],
   "source": [
    "import pandas as pd\n",
    "import dask.dataframe as dd\n",
    "from pathlib import Path\n",
    "import json\n",
    "import numpy as np\n",
    "import multiprocessing as mp"
   ]
  },
  {
   "cell_type": "code",
   "execution_count": 3,
   "metadata": {},
   "outputs": [],
   "source": [
    "ephys_prop_list = pd.read_csv(\"/nethome/kcni/nxu/CIHR/proc/ephys_data_tt.csv\", index_col=0).columns"
   ]
  },
  {
   "cell_type": "markdown",
   "metadata": {},
   "source": [
    "# Data Preprocessing"
   ]
  },
  {
   "cell_type": "markdown",
   "metadata": {},
   "source": [
    "Read GO terms and the genes contained "
   ]
  },
  {
   "cell_type": "code",
   "execution_count": 4,
   "metadata": {},
   "outputs": [],
   "source": [
    "GO_MF_json = json.load(open(\"data/m5.go.mf.v2023.2.Mm.json\"))\n",
    "GO_dict = {}\n",
    "for key in GO_MF_json.keys():\n",
    "    GO_dict[key] = GO_MF_json[key][\"geneSymbols\"]"
   ]
  },
  {
   "cell_type": "markdown",
   "metadata": {},
   "source": [
    "Process observed GLM results"
   ]
  },
  {
   "cell_type": "code",
   "execution_count": 20,
   "metadata": {},
   "outputs": [],
   "source": [
    "## concatenate individual csv files\n",
    "obs_df = []\n",
    "for path in [file for file in Path(\"proc/GLM_results\").iterdir() if \"GLM_results\" in file.name]:\n",
    "    temp = pd.read_csv(path, index_col=0)\n",
    "    temp = temp.assign(ephys_prop = path.name.removeprefix(\"GLM_results_\").removesuffix(\".csv\"))\n",
    "    obs_df.append(temp)\n",
    "obs_df = pd.concat(obs_df)\n",
    "\n",
    "## Add aditional columns: gene_name, ll_ratio\n",
    "obs_df = obs_df.assign(ll_ratio = 2 * (obs_df[\"ll\"] - obs_df[\"ll_null\"]))\n",
    "obs_df = obs_df.assign(gene_name = obs_df.intron_group.str.split(\"_\", n=1, expand=True).iloc[:, 0])\n",
    "obs_ll_ratio = obs_df.groupby([\"gene_name\", \"ephys_prop\"], as_index=False).apply(lambda x: x[\"ll_ratio\"].max())\\\n",
    "    .pivot(index=\"gene_name\", columns=\"ephys_prop\", values=None)\n",
    "\n",
    "## Keeping intron group per gene per ephys_prop with the highest ll_ratio\n",
    "obs_df[\"ll_ratio_rank\"] = obs_df.groupby([\"gene_name\", \"ephys_prop\"])[\"ll_ratio\"].rank(method=\"first\", ascending=False)\n",
    "obs_df = obs_df.loc[obs_df[\"ll_ratio_rank\"] == 1]\n",
    "\n",
    "## Exclude genes with no GO annotation\n",
    "GO_set = set().union(*[set(GO_dict[key]) for key in GO_dict.keys()])    \n",
    "unique_genes_in_adata = obs_df.gene_name\n",
    "genes_in_GO_set = np.intersect1d(list(GO_set), unique_genes_in_adata)\n",
    "genes_to_be_excl = np.setdiff1d(unique_genes_in_adata, list(GO_set))\n",
    "obs_df = obs_df.loc[~obs_df.gene_name.isin(genes_to_be_excl)]"
   ]
  },
  {
   "cell_type": "markdown",
   "metadata": {},
   "source": [
    "Preprocess GLM results with permutated ephys_prop values"
   ]
  },
  {
   "cell_type": "markdown",
   "metadata": {},
   "source": [
    "# QQ plot"
   ]
  },
  {
   "cell_type": "code",
   "execution_count": 2,
   "metadata": {},
   "outputs": [],
   "source": [
    "## concatenate individual csv files\n",
    "obs_df = []\n",
    "for path in [file for file in Path(\"proc/GLM_results\").iterdir() if \"GLM_results\" in file.name]:\n",
    "    temp = pd.read_csv(path, index_col=0)\n",
    "    temp = temp.assign(ephys_prop = path.name.removeprefix(\"GLM_results_\").removesuffix(\".csv\"))\n",
    "    obs_df.append(temp)\n",
    "obs_df = pd.concat(obs_df)"
   ]
  },
  {
   "cell_type": "code",
   "execution_count": 3,
   "metadata": {},
   "outputs": [],
   "source": [
    "random_df = dd.read_csv(\"/external/rprshnas01/netdata_kcni/stlab/Nuo/random_GLM_results/*.csv\", include_path_column=True)\n",
    "random_df[\"path\"] = random_df[\"path\"].str.removeprefix(\"/external/rprshnas01/netdata_kcni/stlab/Nuo/random_GLM_results/\").str.removesuffix(\".csv\")\n",
    "random_df[\"ephys_prop\"] = random_df[\"path\"].str.rsplit(\"_\", n=1, expand=True).iloc[:, 0]\n",
    "random_df = random_df.drop(\"path\", axis=1)\n",
    "random_df = random_df.assign(ll_ratio = 2 * (random_df[\"ll\"] - random_df[\"ll_null\"]))\n",
    "random_df = random_df.compute()"
   ]
  },
  {
   "cell_type": "code",
   "execution_count": 33,
   "metadata": {},
   "outputs": [],
   "source": [
    "a = obs_df.loc[obs_df[\"ephys_prop\"] == \"fi_fit_slope\", \"p_value\"].values"
   ]
  },
  {
   "cell_type": "code",
   "execution_count": 34,
   "metadata": {},
   "outputs": [],
   "source": [
    "b = random_df.loc[random_df[\"ephys_prop\"] == \"fi_fit_slope\", \"p_value\"].values"
   ]
  },
  {
   "cell_type": "code",
   "execution_count": 6,
   "metadata": {},
   "outputs": [],
   "source": [
    "import matplotlib.pyplot as plt"
   ]
  },
  {
   "cell_type": "code",
   "execution_count": 13,
   "metadata": {},
   "outputs": [
    {
     "data": {
      "text/plain": [
       "[<matplotlib.lines.Line2D at 0x7fe6d100d5d0>]"
      ]
     },
     "execution_count": 13,
     "metadata": {},
     "output_type": "execute_result"
    },
    {
     "data": {
      "image/png": "[encoded data removed]",
      "text/plain": [
       "<Figure size 640x480 with 1 Axes>"
      ]
     },
     "metadata": {},
     "output_type": "display_data"
    }
   ],
   "source": [
    "plt.plot(np.quantile(b, np.linspace(0, 1, 100)), np.quantile(a, np.linspace(0, 1, 100)), 'o', markersize=3)\n",
    "plt.plot([0, 1], [0, 1], 'r--')"
   ]
  },
  {
   "cell_type": "code",
   "execution_count": 36,
   "metadata": {},
   "outputs": [],
   "source": [
    "a = -np.log10(a)\n",
    "b = -np.log10(b)    \n",
    "\n"
   ]
  },
  {
   "cell_type": "code",
   "execution_count": 41,
   "metadata": {},
   "outputs": [
    {
     "data": {
      "text/plain": [
       "[<matplotlib.lines.Line2D at 0x7fe6cea8ab00>]"
      ]
     },
     "execution_count": 41,
     "metadata": {},
     "output_type": "execute_result"
    },
    {
     "data": {
      "image/png": "[encoded data removed]",
      "text/plain": [
       "<Figure size 640x480 with 1 Axes>"
      ]
     },
     "metadata": {},
     "output_type": "display_data"
    }
   ],
   "source": [
    "plt.plot(np.quantile(b, np.linspace(0, 0.01, 100)), np.quantile(a, np.linspace(0, 0.01, 100)), 'o', markersize=3)\n",
    "plt.plot([0, 0.005], [0, 0.005], 'r--')"
   ]
  },
  {
   "cell_type": "code",
   "execution_count": 43,
   "metadata": {},
   "outputs": [
    {
     "data": {
      "text/plain": [
       "0.6020599913279624"
      ]
     },
     "execution_count": 43,
     "metadata": {},
     "output_type": "execute_result"
    }
   ],
   "source": [
    "np.log10(4)"
   ]
  },
  {
   "cell_type": "code",
   "execution_count": 45,
   "metadata": {},
   "outputs": [
    {
     "data": {
      "text/plain": [
       "3.9810717055349722"
      ]
     },
     "execution_count": 45,
     "metadata": {},
     "output_type": "execute_result"
    }
   ],
   "source": [
    "10**0.6"
   ]
  },
  {
   "cell_type": "code",
   "execution_count": 17,
   "metadata": {},
   "outputs": [
    {
     "data": {
      "text/plain": [
       "array([1.17138573e-64, 4.80478316e-51, 3.87181896e-41, ...,\n",
       "       9.99911193e-01, 9.99986757e-01, 1.00000000e+00])"
      ]
     },
     "execution_count": 17,
     "metadata": {},
     "output_type": "execute_result"
    }
   ],
   "source": []
  },
  {
   "cell_type": "code",
   "execution_count": 6,
   "metadata": {},
   "outputs": [],
   "source": [
    "ES = []\n",
    "for ephys_prop in ephys_prop_list:\n",
    "    ephys_df = obs_df.loc[obs_df[\"ephys_prop\"] == ephys_prop]\n",
    "    row = {}\n",
    "    for GO_term in GO_dict.keys():\n",
    "        row[GO_term] = ephys_df.loc[ephys_df[\"gene_name\"].isin(GO_dict[GO_term]), \"ll_ratio\"].sum()    \n",
    "    ES.append(row)\n",
    "ES = pd.DataFrame(ES).T\n",
    "ES.columns = ephys_prop_list\n",
    "ES = ES.loc[(ES.sum(axis=1) != 0)]"
   ]
  },
  {
   "cell_type": "code",
   "execution_count": 7,
   "metadata": {},
   "outputs": [
    {
     "data": {
      "text/html": [
       "<div>\n",
       "<style scoped>\n",
       "    .dataframe tbody tr th:only-of-type {\n",
       "        vertical-align: middle;\n",
       "    }\n",
       "\n",
       "    .dataframe tbody tr th {\n",
       "        vertical-align: top;\n",
       "    }\n",
       "\n",
       "    .dataframe thead th {\n",
       "        text-align: right;\n",
       "    }\n",
       "</style>\n",
       "<table border=\"1\" class=\"dataframe\">\n",
       "  <thead>\n",
       "    <tr style=\"text-align: right;\">\n",
       "      <th></th>\n",
       "      <th>v_baseline</th>\n",
       "      <th>rheobase_i</th>\n",
       "      <th>fi_fit_slope</th>\n",
       "      <th>sag</th>\n",
       "      <th>vm_for_sag</th>\n",
       "      <th>input_resistance</th>\n",
       "      <th>tau</th>\n",
       "      <th>hero_adapt</th>\n",
       "      <th>hero_avg_rate</th>\n",
       "      <th>hero_first_isi</th>\n",
       "      <th>...</th>\n",
       "      <th>hero_stim_amp</th>\n",
       "      <th>rheo_threshold_v</th>\n",
       "      <th>rheo_trough_v</th>\n",
       "      <th>rheo_fast_trough_v</th>\n",
       "      <th>rheo_width</th>\n",
       "      <th>rheo_upstroke_downstroke_ratio</th>\n",
       "      <th>rheo_peak_t</th>\n",
       "      <th>rheo_fast_trough_t</th>\n",
       "      <th>rheo_trough_t</th>\n",
       "      <th>rheo_peak_v</th>\n",
       "    </tr>\n",
       "  </thead>\n",
       "  <tbody>\n",
       "    <tr>\n",
       "      <th>GOMF_SINGLE_STRANDED_DNA_ENDODEOXYRIBONUCLEASE_ACTIVITY</th>\n",
       "      <td>21.496021</td>\n",
       "      <td>21.132787</td>\n",
       "      <td>17.859708</td>\n",
       "      <td>19.398959</td>\n",
       "      <td>16.785595</td>\n",
       "      <td>19.014925</td>\n",
       "      <td>14.734508</td>\n",
       "      <td>11.431114</td>\n",
       "      <td>26.118994</td>\n",
       "      <td>14.775613</td>\n",
       "      <td>...</td>\n",
       "      <td>20.275092</td>\n",
       "      <td>12.853034</td>\n",
       "      <td>29.747416</td>\n",
       "      <td>29.086549</td>\n",
       "      <td>28.354603</td>\n",
       "      <td>39.827925</td>\n",
       "      <td>18.570465</td>\n",
       "      <td>18.557060</td>\n",
       "      <td>26.586855</td>\n",
       "      <td>30.065095</td>\n",
       "    </tr>\n",
       "    <tr>\n",
       "      <th>GOMF_MANNOSYLTRANSFERASE_ACTIVITY</th>\n",
       "      <td>32.126052</td>\n",
       "      <td>41.934563</td>\n",
       "      <td>33.487949</td>\n",
       "      <td>35.897713</td>\n",
       "      <td>34.219613</td>\n",
       "      <td>42.742730</td>\n",
       "      <td>31.238400</td>\n",
       "      <td>17.264908</td>\n",
       "      <td>29.418057</td>\n",
       "      <td>21.994451</td>\n",
       "      <td>...</td>\n",
       "      <td>41.860007</td>\n",
       "      <td>21.629585</td>\n",
       "      <td>37.067968</td>\n",
       "      <td>36.383437</td>\n",
       "      <td>27.016586</td>\n",
       "      <td>39.961906</td>\n",
       "      <td>16.909351</td>\n",
       "      <td>16.966206</td>\n",
       "      <td>19.510184</td>\n",
       "      <td>34.824466</td>\n",
       "    </tr>\n",
       "    <tr>\n",
       "      <th>GOMF_TRNA_BINDING</th>\n",
       "      <td>134.317558</td>\n",
       "      <td>186.046446</td>\n",
       "      <td>185.138509</td>\n",
       "      <td>106.134266</td>\n",
       "      <td>157.140493</td>\n",
       "      <td>170.299105</td>\n",
       "      <td>157.570325</td>\n",
       "      <td>114.790268</td>\n",
       "      <td>132.112836</td>\n",
       "      <td>128.873639</td>\n",
       "      <td>...</td>\n",
       "      <td>187.173524</td>\n",
       "      <td>93.778514</td>\n",
       "      <td>149.924102</td>\n",
       "      <td>162.149635</td>\n",
       "      <td>325.990632</td>\n",
       "      <td>345.078361</td>\n",
       "      <td>135.494291</td>\n",
       "      <td>136.689250</td>\n",
       "      <td>135.841759</td>\n",
       "      <td>105.631538</td>\n",
       "    </tr>\n",
       "    <tr>\n",
       "      <th>GOMF_L_ORNITHINE_TRANSMEMBRANE_TRANSPORTER_ACTIVITY</th>\n",
       "      <td>1.340743</td>\n",
       "      <td>0.150179</td>\n",
       "      <td>3.141178</td>\n",
       "      <td>0.580349</td>\n",
       "      <td>0.011145</td>\n",
       "      <td>1.385946</td>\n",
       "      <td>1.734424</td>\n",
       "      <td>1.234378</td>\n",
       "      <td>1.727125</td>\n",
       "      <td>0.689413</td>\n",
       "      <td>...</td>\n",
       "      <td>0.142552</td>\n",
       "      <td>0.483756</td>\n",
       "      <td>1.337252</td>\n",
       "      <td>0.930285</td>\n",
       "      <td>0.301452</td>\n",
       "      <td>0.534944</td>\n",
       "      <td>0.176180</td>\n",
       "      <td>0.168036</td>\n",
       "      <td>0.874547</td>\n",
       "      <td>2.085569</td>\n",
       "    </tr>\n",
       "    <tr>\n",
       "      <th>GOMF_SULFUR_AMINO_ACID_TRANSMEMBRANE_TRANSPORTER_ACTIVITY</th>\n",
       "      <td>6.796474</td>\n",
       "      <td>13.389958</td>\n",
       "      <td>14.576050</td>\n",
       "      <td>11.050811</td>\n",
       "      <td>9.601892</td>\n",
       "      <td>8.038707</td>\n",
       "      <td>13.781370</td>\n",
       "      <td>19.948878</td>\n",
       "      <td>18.077719</td>\n",
       "      <td>10.111962</td>\n",
       "      <td>...</td>\n",
       "      <td>12.969562</td>\n",
       "      <td>4.572062</td>\n",
       "      <td>8.974558</td>\n",
       "      <td>7.189658</td>\n",
       "      <td>5.063552</td>\n",
       "      <td>4.193138</td>\n",
       "      <td>10.652437</td>\n",
       "      <td>10.711211</td>\n",
       "      <td>8.156299</td>\n",
       "      <td>14.649462</td>\n",
       "    </tr>\n",
       "  </tbody>\n",
       "</table>\n",
       "<p>5 rows × 24 columns</p>\n",
       "</div>"
      ],
      "text/plain": [
       "                                                    v_baseline  rheobase_i  \\\n",
       "GOMF_SINGLE_STRANDED_DNA_ENDODEOXYRIBONUCLEASE_...   21.496021   21.132787   \n",
       "GOMF_MANNOSYLTRANSFERASE_ACTIVITY                    32.126052   41.934563   \n",
       "GOMF_TRNA_BINDING                                   134.317558  186.046446   \n",
       "GOMF_L_ORNITHINE_TRANSMEMBRANE_TRANSPORTER_ACTI...    1.340743    0.150179   \n",
       "GOMF_SULFUR_AMINO_ACID_TRANSMEMBRANE_TRANSPORTE...    6.796474   13.389958   \n",
       "\n",
       "                                                    fi_fit_slope         sag  \\\n",
       "GOMF_SINGLE_STRANDED_DNA_ENDODEOXYRIBONUCLEASE_...     17.859708   19.398959   \n",
       "GOMF_MANNOSYLTRANSFERASE_ACTIVITY                      33.487949   35.897713   \n",
       "GOMF_TRNA_BINDING                                     185.138509  106.134266   \n",
       "GOMF_L_ORNITHINE_TRANSMEMBRANE_TRANSPORTER_ACTI...      3.141178    0.580349   \n",
       "GOMF_SULFUR_AMINO_ACID_TRANSMEMBRANE_TRANSPORTE...     14.576050   11.050811   \n",
       "\n",
       "                                                    vm_for_sag  \\\n",
       "GOMF_SINGLE_STRANDED_DNA_ENDODEOXYRIBONUCLEASE_...   16.785595   \n",
       "GOMF_MANNOSYLTRANSFERASE_ACTIVITY                    34.219613   \n",
       "GOMF_TRNA_BINDING                                   157.140493   \n",
       "GOMF_L_ORNITHINE_TRANSMEMBRANE_TRANSPORTER_ACTI...    0.011145   \n",
       "GOMF_SULFUR_AMINO_ACID_TRANSMEMBRANE_TRANSPORTE...    9.601892   \n",
       "\n",
       "                                                    input_resistance  \\\n",
       "GOMF_SINGLE_STRANDED_DNA_ENDODEOXYRIBONUCLEASE_...         19.014925   \n",
       "GOMF_MANNOSYLTRANSFERASE_ACTIVITY                          42.742730   \n",
       "GOMF_TRNA_BINDING                                         170.299105   \n",
       "GOMF_L_ORNITHINE_TRANSMEMBRANE_TRANSPORTER_ACTI...          1.385946   \n",
       "GOMF_SULFUR_AMINO_ACID_TRANSMEMBRANE_TRANSPORTE...          8.038707   \n",
       "\n",
       "                                                           tau  hero_adapt  \\\n",
       "GOMF_SINGLE_STRANDED_DNA_ENDODEOXYRIBONUCLEASE_...   14.734508   11.431114   \n",
       "GOMF_MANNOSYLTRANSFERASE_ACTIVITY                    31.238400   17.264908   \n",
       "GOMF_TRNA_BINDING                                   157.570325  114.790268   \n",
       "GOMF_L_ORNITHINE_TRANSMEMBRANE_TRANSPORTER_ACTI...    1.734424    1.234378   \n",
       "GOMF_SULFUR_AMINO_ACID_TRANSMEMBRANE_TRANSPORTE...   13.781370   19.948878   \n",
       "\n",
       "                                                    hero_avg_rate  \\\n",
       "GOMF_SINGLE_STRANDED_DNA_ENDODEOXYRIBONUCLEASE_...      26.118994   \n",
       "GOMF_MANNOSYLTRANSFERASE_ACTIVITY                       29.418057   \n",
       "GOMF_TRNA_BINDING                                      132.112836   \n",
       "GOMF_L_ORNITHINE_TRANSMEMBRANE_TRANSPORTER_ACTI...       1.727125   \n",
       "GOMF_SULFUR_AMINO_ACID_TRANSMEMBRANE_TRANSPORTE...      18.077719   \n",
       "\n",
       "                                                    hero_first_isi  ...  \\\n",
       "GOMF_SINGLE_STRANDED_DNA_ENDODEOXYRIBONUCLEASE_...       14.775613  ...   \n",
       "GOMF_MANNOSYLTRANSFERASE_ACTIVITY                        21.994451  ...   \n",
       "GOMF_TRNA_BINDING                                       128.873639  ...   \n",
       "GOMF_L_ORNITHINE_TRANSMEMBRANE_TRANSPORTER_ACTI...        0.689413  ...   \n",
       "GOMF_SULFUR_AMINO_ACID_TRANSMEMBRANE_TRANSPORTE...       10.111962  ...   \n",
       "\n",
       "                                                    hero_stim_amp  \\\n",
       "GOMF_SINGLE_STRANDED_DNA_ENDODEOXYRIBONUCLEASE_...      20.275092   \n",
       "GOMF_MANNOSYLTRANSFERASE_ACTIVITY                       41.860007   \n",
       "GOMF_TRNA_BINDING                                      187.173524   \n",
       "GOMF_L_ORNITHINE_TRANSMEMBRANE_TRANSPORTER_ACTI...       0.142552   \n",
       "GOMF_SULFUR_AMINO_ACID_TRANSMEMBRANE_TRANSPORTE...      12.969562   \n",
       "\n",
       "                                                    rheo_threshold_v  \\\n",
       "GOMF_SINGLE_STRANDED_DNA_ENDODEOXYRIBONUCLEASE_...         12.853034   \n",
       "GOMF_MANNOSYLTRANSFERASE_ACTIVITY                          21.629585   \n",
       "GOMF_TRNA_BINDING                                          93.778514   \n",
       "GOMF_L_ORNITHINE_TRANSMEMBRANE_TRANSPORTER_ACTI...          0.483756   \n",
       "GOMF_SULFUR_AMINO_ACID_TRANSMEMBRANE_TRANSPORTE...          4.572062   \n",
       "\n",
       "                                                    rheo_trough_v  \\\n",
       "GOMF_SINGLE_STRANDED_DNA_ENDODEOXYRIBONUCLEASE_...      29.747416   \n",
       "GOMF_MANNOSYLTRANSFERASE_ACTIVITY                       37.067968   \n",
       "GOMF_TRNA_BINDING                                      149.924102   \n",
       "GOMF_L_ORNITHINE_TRANSMEMBRANE_TRANSPORTER_ACTI...       1.337252   \n",
       "GOMF_SULFUR_AMINO_ACID_TRANSMEMBRANE_TRANSPORTE...       8.974558   \n",
       "\n",
       "                                                    rheo_fast_trough_v  \\\n",
       "GOMF_SINGLE_STRANDED_DNA_ENDODEOXYRIBONUCLEASE_...           29.086549   \n",
       "GOMF_MANNOSYLTRANSFERASE_ACTIVITY                            36.383437   \n",
       "GOMF_TRNA_BINDING                                           162.149635   \n",
       "GOMF_L_ORNITHINE_TRANSMEMBRANE_TRANSPORTER_ACTI...            0.930285   \n",
       "GOMF_SULFUR_AMINO_ACID_TRANSMEMBRANE_TRANSPORTE...            7.189658   \n",
       "\n",
       "                                                    rheo_width  \\\n",
       "GOMF_SINGLE_STRANDED_DNA_ENDODEOXYRIBONUCLEASE_...   28.354603   \n",
       "GOMF_MANNOSYLTRANSFERASE_ACTIVITY                    27.016586   \n",
       "GOMF_TRNA_BINDING                                   325.990632   \n",
       "GOMF_L_ORNITHINE_TRANSMEMBRANE_TRANSPORTER_ACTI...    0.301452   \n",
       "GOMF_SULFUR_AMINO_ACID_TRANSMEMBRANE_TRANSPORTE...    5.063552   \n",
       "\n",
       "                                                    rheo_upstroke_downstroke_ratio  \\\n",
       "GOMF_SINGLE_STRANDED_DNA_ENDODEOXYRIBONUCLEASE_...                       39.827925   \n",
       "GOMF_MANNOSYLTRANSFERASE_ACTIVITY                                        39.961906   \n",
       "GOMF_TRNA_BINDING                                                       345.078361   \n",
       "GOMF_L_ORNITHINE_TRANSMEMBRANE_TRANSPORTER_ACTI...                        0.534944   \n",
       "GOMF_SULFUR_AMINO_ACID_TRANSMEMBRANE_TRANSPORTE...                        4.193138   \n",
       "\n",
       "                                                    rheo_peak_t  \\\n",
       "GOMF_SINGLE_STRANDED_DNA_ENDODEOXYRIBONUCLEASE_...    18.570465   \n",
       "GOMF_MANNOSYLTRANSFERASE_ACTIVITY                     16.909351   \n",
       "GOMF_TRNA_BINDING                                    135.494291   \n",
       "GOMF_L_ORNITHINE_TRANSMEMBRANE_TRANSPORTER_ACTI...     0.176180   \n",
       "GOMF_SULFUR_AMINO_ACID_TRANSMEMBRANE_TRANSPORTE...    10.652437   \n",
       "\n",
       "                                                    rheo_fast_trough_t  \\\n",
       "GOMF_SINGLE_STRANDED_DNA_ENDODEOXYRIBONUCLEASE_...           18.557060   \n",
       "GOMF_MANNOSYLTRANSFERASE_ACTIVITY                            16.966206   \n",
       "GOMF_TRNA_BINDING                                           136.689250   \n",
       "GOMF_L_ORNITHINE_TRANSMEMBRANE_TRANSPORTER_ACTI...            0.168036   \n",
       "GOMF_SULFUR_AMINO_ACID_TRANSMEMBRANE_TRANSPORTE...           10.711211   \n",
       "\n",
       "                                                    rheo_trough_t  rheo_peak_v  \n",
       "GOMF_SINGLE_STRANDED_DNA_ENDODEOXYRIBONUCLEASE_...      26.586855    30.065095  \n",
       "GOMF_MANNOSYLTRANSFERASE_ACTIVITY                       19.510184    34.824466  \n",
       "GOMF_TRNA_BINDING                                      135.841759   105.631538  \n",
       "GOMF_L_ORNITHINE_TRANSMEMBRANE_TRANSPORTER_ACTI...       0.874547     2.085569  \n",
       "GOMF_SULFUR_AMINO_ACID_TRANSMEMBRANE_TRANSPORTE...       8.156299    14.649462  \n",
       "\n",
       "[5 rows x 24 columns]"
      ]
     },
     "execution_count": 7,
     "metadata": {},
     "output_type": "execute_result"
    }
   ],
   "source": [
    "ES.head()"
   ]
  },
  {
   "cell_type": "code",
   "execution_count": 8,
   "metadata": {},
   "outputs": [],
   "source": [
    "ES_pvalue = []\n",
    "for ephys_prop in ephys_prop_list:\n",
    "    temp = pd.read_csv(f\"/nethome/kcni/nxu/CIHR/proc/ES_random/{ephys_prop}.csv\", index_col=0)\n",
    "    my_dict = {}\n",
    "    for GO_term in ES.index:\n",
    "        my_dict[GO_term] = ((temp.loc[GO_term] > ES.loc[GO_term, ephys_prop]).sum() + 1) / 51\n",
    "    ES_pvalue.append(my_dict)"
   ]
  },
  {
   "cell_type": "code",
   "execution_count": 9,
   "metadata": {},
   "outputs": [],
   "source": [
    "ES_pvalue = pd.DataFrame(ES_pvalue).T"
   ]
  },
  {
   "cell_type": "code",
   "execution_count": 10,
   "metadata": {},
   "outputs": [],
   "source": [
    "ES_pvalue.columns = ephys_prop_list"
   ]
  },
  {
   "cell_type": "code",
   "execution_count": null,
   "metadata": {},
   "outputs": [],
   "source": [
    "ES_pvalue[ephys_prop] = -np.log10(ES_pvalue[ephys_prop])"
   ]
  },
  {
   "cell_type": "markdown",
   "metadata": {},
   "source": [
    "# Multiprocessing for getting ES_random dataframes"
   ]
  },
  {
   "cell_type": "code",
   "execution_count": null,
   "metadata": {},
   "outputs": [],
   "source": [
    "# for ephys_prop in ephys_prop_list:\n",
    "\n",
    "ephys_prop = \"v_baseline\"\n",
    "# read all csv files of all random seeds of an ephys_prop into one df\n",
    "ephys_df = dd.read_csv(f\"/external/rprshnas01/netdata_kcni/stlab/Nuo/random_GLM_results/{ephys_prop}_*.csv\", include_path_column=True)\n",
    "ephys_df[\"seed\"] = ephys_df[\"path\"].str.removesuffix(\".csv\").str.rsplit(\"_\", n=1, expand=True).iloc[:, 1]\n",
    "ephys_df = ephys_df.drop(\"path\", axis=1)\n",
    "# filter out intron groups that are not in obs_df\n",
    "ephys_df = ephys_df.loc[ephys_df[\"intron_group\"].isin(obs_df.loc[obs_df[\"ephys_prop\"] == ephys_prop, \"intron_group\"].values)]\n",
    "# add ll_ratio and gene_name columns\n",
    "ephys_df = ephys_df.assign(ll_ratio = 2 * (ephys_df[\"ll\"] - ephys_df[\"ll_null\"]))\n",
    "ephys_df = ephys_df.assign(gene_name = ephys_df.intron_group.str.split(\"_\", n=1, expand=True).iloc[:, 0])\n",
    "ephys_df = ephys_df.compute()"
   ]
  },
  {
   "cell_type": "code",
   "execution_count": null,
   "metadata": {},
   "outputs": [
    {
     "data": {
      "text/html": [
       "<div>\n",
       "<style scoped>\n",
       "    .dataframe tbody tr th:only-of-type {\n",
       "        vertical-align: middle;\n",
       "    }\n",
       "\n",
       "    .dataframe tbody tr th {\n",
       "        vertical-align: top;\n",
       "    }\n",
       "\n",
       "    .dataframe thead th {\n",
       "        text-align: right;\n",
       "    }\n",
       "</style>\n",
       "<table border=\"1\" class=\"dataframe\">\n",
       "  <thead>\n",
       "    <tr style=\"text-align: right;\">\n",
       "      <th></th>\n",
       "      <th>intron_group</th>\n",
       "      <th>p_value</th>\n",
       "      <th>ll_null</th>\n",
       "      <th>ll</th>\n",
       "      <th>n_classes</th>\n",
       "      <th>seed</th>\n",
       "      <th>ll_ratio</th>\n",
       "      <th>gene_name</th>\n",
       "    </tr>\n",
       "  </thead>\n",
       "  <tbody>\n",
       "    <tr>\n",
       "      <th>0</th>\n",
       "      <td>Kdm5d_Y_898549_+</td>\n",
       "      <td>0.335400</td>\n",
       "      <td>-164.834582</td>\n",
       "      <td>-164.370613</td>\n",
       "      <td>2</td>\n",
       "      <td>0</td>\n",
       "      <td>0.927937</td>\n",
       "      <td>Kdm5d</td>\n",
       "    </tr>\n",
       "    <tr>\n",
       "      <th>1</th>\n",
       "      <td>Eif2s3y_Y_1014633_+</td>\n",
       "      <td>0.727469</td>\n",
       "      <td>-1878.132974</td>\n",
       "      <td>-1877.814791</td>\n",
       "      <td>3</td>\n",
       "      <td>0</td>\n",
       "      <td>0.636367</td>\n",
       "      <td>Eif2s3y</td>\n",
       "    </tr>\n",
       "    <tr>\n",
       "      <th>3</th>\n",
       "      <td>Uty_Y_1168186_-</td>\n",
       "      <td>0.297607</td>\n",
       "      <td>-228.306975</td>\n",
       "      <td>-227.764532</td>\n",
       "      <td>2</td>\n",
       "      <td>0</td>\n",
       "      <td>1.084886</td>\n",
       "      <td>Uty</td>\n",
       "    </tr>\n",
       "    <tr>\n",
       "      <th>4</th>\n",
       "      <td>Ddx3y_Y_1280440_-</td>\n",
       "      <td>0.582303</td>\n",
       "      <td>-159.549132</td>\n",
       "      <td>-159.397869</td>\n",
       "      <td>2</td>\n",
       "      <td>0</td>\n",
       "      <td>0.302526</td>\n",
       "      <td>Ddx3y</td>\n",
       "    </tr>\n",
       "    <tr>\n",
       "      <th>7</th>\n",
       "      <td>Sfi1_11_3096293_-</td>\n",
       "      <td>0.239716</td>\n",
       "      <td>-131.329778</td>\n",
       "      <td>-130.638646</td>\n",
       "      <td>2</td>\n",
       "      <td>0</td>\n",
       "      <td>1.382264</td>\n",
       "      <td>Sfi1</td>\n",
       "    </tr>\n",
       "    <tr>\n",
       "      <th>...</th>\n",
       "      <td>...</td>\n",
       "      <td>...</td>\n",
       "      <td>...</td>\n",
       "      <td>...</td>\n",
       "      <td>...</td>\n",
       "      <td>...</td>\n",
       "      <td>...</td>\n",
       "      <td>...</td>\n",
       "    </tr>\n",
       "    <tr>\n",
       "      <th>13075</th>\n",
       "      <td>Rcor3_1_191785456_-</td>\n",
       "      <td>0.310066</td>\n",
       "      <td>-657.713480</td>\n",
       "      <td>-656.542510</td>\n",
       "      <td>3</td>\n",
       "      <td>9</td>\n",
       "      <td>2.341940</td>\n",
       "      <td>Rcor3</td>\n",
       "    </tr>\n",
       "    <tr>\n",
       "      <th>13078</th>\n",
       "      <td>Kcnh1_1_192019707_+</td>\n",
       "      <td>0.776822</td>\n",
       "      <td>-583.703972</td>\n",
       "      <td>-583.663796</td>\n",
       "      <td>2</td>\n",
       "      <td>9</td>\n",
       "      <td>0.080351</td>\n",
       "      <td>Kcnh1</td>\n",
       "    </tr>\n",
       "    <tr>\n",
       "      <th>13080</th>\n",
       "      <td>Syt14_1_192615694_-</td>\n",
       "      <td>0.276439</td>\n",
       "      <td>-747.953076</td>\n",
       "      <td>-746.667313</td>\n",
       "      <td>3</td>\n",
       "      <td>9</td>\n",
       "      <td>2.571527</td>\n",
       "      <td>Syt14</td>\n",
       "    </tr>\n",
       "    <tr>\n",
       "      <th>13082</th>\n",
       "      <td>Camk1g_1_193037403_-</td>\n",
       "      <td>0.453379</td>\n",
       "      <td>-217.690756</td>\n",
       "      <td>-217.409661</td>\n",
       "      <td>2</td>\n",
       "      <td>9</td>\n",
       "      <td>0.562190</td>\n",
       "      <td>Camk1g</td>\n",
       "    </tr>\n",
       "    <tr>\n",
       "      <th>13085</th>\n",
       "      <td>Cr1l_1_194812318_-</td>\n",
       "      <td>0.029844</td>\n",
       "      <td>-1438.297509</td>\n",
       "      <td>-1432.935356</td>\n",
       "      <td>5</td>\n",
       "      <td>9</td>\n",
       "      <td>10.724307</td>\n",
       "      <td>Cr1l</td>\n",
       "    </tr>\n",
       "  </tbody>\n",
       "</table>\n",
       "<p>295750 rows × 8 columns</p>\n",
       "</div>"
      ],
      "text/plain": [
       "               intron_group   p_value      ll_null           ll  n_classes  \\\n",
       "0          Kdm5d_Y_898549_+  0.335400  -164.834582  -164.370613          2   \n",
       "1       Eif2s3y_Y_1014633_+  0.727469 -1878.132974 -1877.814791          3   \n",
       "3           Uty_Y_1168186_-  0.297607  -228.306975  -227.764532          2   \n",
       "4         Ddx3y_Y_1280440_-  0.582303  -159.549132  -159.397869          2   \n",
       "7         Sfi1_11_3096293_-  0.239716  -131.329778  -130.638646          2   \n",
       "...                     ...       ...          ...          ...        ...   \n",
       "13075   Rcor3_1_191785456_-  0.310066  -657.713480  -656.542510          3   \n",
       "13078   Kcnh1_1_192019707_+  0.776822  -583.703972  -583.663796          2   \n",
       "13080   Syt14_1_192615694_-  0.276439  -747.953076  -746.667313          3   \n",
       "13082  Camk1g_1_193037403_-  0.453379  -217.690756  -217.409661          2   \n",
       "13085    Cr1l_1_194812318_-  0.029844 -1438.297509 -1432.935356          5   \n",
       "\n",
       "      seed   ll_ratio gene_name  \n",
       "0        0   0.927937     Kdm5d  \n",
       "1        0   0.636367   Eif2s3y  \n",
       "3        0   1.084886       Uty  \n",
       "4        0   0.302526     Ddx3y  \n",
       "7        0   1.382264      Sfi1  \n",
       "...    ...        ...       ...  \n",
       "13075    9   2.341940     Rcor3  \n",
       "13078    9   0.080351     Kcnh1  \n",
       "13080    9   2.571527     Syt14  \n",
       "13082    9   0.562190    Camk1g  \n",
       "13085    9  10.724307      Cr1l  \n",
       "\n",
       "[295750 rows x 8 columns]"
      ]
     },
     "metadata": {},
     "output_type": "display_data"
    }
   ],
   "source": [
    "ephys_df"
   ]
  },
  {
   "cell_type": "code",
   "execution_count": 10,
   "metadata": {},
   "outputs": [],
   "source": [
    "def get_ES_per_GO_term(GO_term):\n",
    "    my_list = []\n",
    "    for seed in range(50):\n",
    "        temp = ephys_df.loc[ephys_df[\"seed\"] == str(seed)]\n",
    "        my_list.append(temp.loc[temp[\"gene_name\"].isin(GO_dict[GO_term]), \"ll_ratio\"].sum())\n",
    "    return my_list    \n"
   ]
  },
  {
   "cell_type": "code",
   "execution_count": 13,
   "metadata": {},
   "outputs": [],
   "source": [
    "with mp.Pool(12) as pool:\n",
    "    ES_test = pool.map_async(get_ES_per_GO_term, GO_dict.keys())\n",
    "    ES_test = ES_test.get()"
   ]
  },
  {
   "cell_type": "code",
   "execution_count": null,
   "metadata": {},
   "outputs": [],
   "source": [
    "from utility.run_slurm import run_slurm\n",
    "for ephys_prop in ['rheobase_i', 'fi_fit_slope', 'sag', 'vm_for_sag',\n",
    "       'input_resistance', 'tau', 'hero_adapt', 'hero_avg_rate',\n",
    "       'hero_first_isi', 'hero_isi_cv', 'hero_latency', 'hero_mean_isi',\n",
    "       'hero_median_isi', 'hero_stim_amp', 'rheo_threshold_v', 'rheo_trough_v',\n",
    "       'rheo_fast_trough_v', 'rheo_width', 'rheo_upstroke_downstroke_ratio',\n",
    "       'rheo_peak_t', 'rheo_fast_trough_t', 'rheo_trough_t', 'rheo_peak_v']:\n",
    "    run_slurm(\n",
    "        cmd=f\"python /nethome/kcni/nxu/CIHR/notebooks/GSEA.py {ephys_prop}\",\n",
    "        job_name=f\"GSEA_{ephys_prop}\",\n",
    "        time=\"0-1:0\",\n",
    "        log_file=f\"/nethome/kcni/nxu/CIHR/GSEA_{ephys_prop}.out\",\n",
    "        num_threads=12\n",
    "    )"
   ]
  }
 ],
 "metadata": {
  "kernelspec": {
   "display_name": "Python 3 (ipykernel)",
   "language": "python",
   "name": "python3"
  },
  "language_info": {
   "codemirror_mode": {
    "name": "ipython",
    "version": 3
   },
   "file_extension": ".py",
   "mimetype": "text/x-python",
   "name": "python",
   "nbconvert_exporter": "python",
   "pygments_lexer": "ipython3",
   "version": "3.12.2"
  }
 },
 "nbformat": 4,
 "nbformat_minor": 2
}
