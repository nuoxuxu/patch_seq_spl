{
 "cells": [
  {
   "cell_type": "code",
   "execution_count": null,
   "metadata": {},
   "outputs": [],
   "source": [
    "import os\n",
    "from pathlib import Path\n",
    "import pandas as pd\n",
    "import numpy as np\n",
    "from statsmodels.stats.multitest import fdrcorrection\n",
    "import patch_seq_spl.helper_functions as src\n",
    "from importlib import reload\n",
    "import json\n",
    "import matplotlib.pyplot as plt\n",
    "import seaborn as sns\n",
    "from utility.ryp import r, to_r\n",
    "import anndata\n",
    "import dask.dataframe as dd"
   ]
  },
  {
   "cell_type": "code",
   "execution_count": null,
   "metadata": {},
   "outputs": [],
   "source": [
    "glm_results = dd.read_csv([path for path in Path(\"proc/quantas/beta_binomial\").iterdir()], include_path_column = True)\\\n",
    "    .pivot_table(index = \"event_name\", columns = \"path\", values = \"p_value\").compute()\n",
    "\n",
    "glm_results.rename(columns = {path: Path(path).stem for path in glm_results.columns}, inplace = True)\n",
    "\n",
    "glm_results = glm_results.loc[glm_results.isna().sum(axis = 1) < 2]\n",
    "\n",
    "glm_results.fillna(1, inplace = True)\n",
    "\n",
    "event_name_gene_name = pd.read_csv(\"data/quantas/Mm.seq.all.AS.chrom.can.id2gene2symbol\", sep = \"\\t\", header = None)\\\n",
    "        .set_index(0)\\\n",
    "        .loc[:, 2]\\\n",
    "        .to_dict()        \n",
    "glm_results[\"gene_name\"] = glm_results.index.map(event_name_gene_name)\n",
    "glm_results[\"gene_name\"] = glm_results.groupby(\"gene_name\").cumcount().add(1).astype(str).radd(glm_results[\"gene_name\"] + '_')\n",
    "glm_results = glm_results.set_index(\"gene_name\")"
   ]
  },
  {
   "cell_type": "code",
   "execution_count": null,
   "metadata": {},
   "outputs": [],
   "source": [
    "glm_results.loc[(glm_results < 0.05).sum(axis = 1).sort_values(ascending = False).index].to_csv(\"test.csv\")"
   ]
  }
 ],
 "metadata": {
  "kernelspec": {
   "display_name": "patch_seq_spl",
   "language": "python",
   "name": "python3"
  },
  "language_info": {
   "name": "python",
   "version": "3.12.3"
  }
 },
 "nbformat": 4,
 "nbformat_minor": 2
}
