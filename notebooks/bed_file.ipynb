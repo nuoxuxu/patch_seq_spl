{
 "cells": [
  {
   "cell_type": "code",
   "execution_count": 1,
   "metadata": {},
   "outputs": [],
   "source": [
    "import pandas as pd"
   ]
  },
  {
   "cell_type": "code",
   "execution_count": 4,
   "metadata": {},
   "outputs": [
    {
     "name": "stdout",
     "output_type": "stream",
     "text": [
      "/gpfs/fs0/scratch/s/shreejoy/nxu/CIHR\n"
     ]
    }
   ],
   "source": [
    "%cd /scratch/s/shreejoy/nxu/CIHR"
   ]
  },
  {
   "cell_type": "code",
   "execution_count": 1,
   "metadata": {},
   "outputs": [
    {
     "name": "stdout",
     "output_type": "stream",
     "text": [
      "nia-login05.scinet.local\n"
     ]
    }
   ],
   "source": [
    "!hostname"
   ]
  },
  {
   "cell_type": "code",
   "execution_count": 48,
   "metadata": {},
   "outputs": [],
   "source": [
    "sig_intron_attr = pd.read_csv(\"proc/inspect.csv\")\n",
    "sig_intron_attr = sig_intron_attr\\\n",
    "    .assign(\n",
    "        score = 0, \n",
    "        thickStart = sig_intron_attr.start, \n",
    "        thickEnd = sig_intron_attr.end,\n",
    "        itemRgb = \"0,0,0\",\n",
    "        blockSizes = sig_intron_attr.end - sig_intron_attr.start,\n",
    "        blockCount = 1)\n",
    "blockStarts = sig_intron_attr.groupby(\"intron_group\", as_index=False).apply(lambda x: x.start - x.start.min()).reset_index(level=0)\n",
    "blockStarts.rename(columns={\"start\": \"blockStarts\"}, inplace=True)\n",
    "\n",
    "sig_intron_attr = pd.merge(sig_intron_attr, blockStarts[\"blockStarts\"], left_index=True, right_index=True)"
   ]
  },
  {
   "cell_type": "code",
   "execution_count": 50,
   "metadata": {},
   "outputs": [],
   "source": [
    "bed = sig_intron_attr.groupby(\"intron_group\") \\\n",
    "    .agg({\n",
    "        \"chromosome\": \"first\",\n",
    "        \"start\": \"first\",\n",
    "        \"end\": \"first\",\n",
    "        \"intron_group\": \"first\",\n",
    "        \"score\": \"first\",\n",
    "        \"strand\": \"first\",\n",
    "        \"thickStart\": \"first\",\n",
    "        \"thickEnd\": \"first\",\n",
    "        \"itemRgb\": \"first\",\n",
    "        \"blockCount\": \"count\",\n",
    "        \"blockSizes\": lambda x: \",\".join(x.astype(str)),\n",
    "        \"blockStarts\": lambda x: \",\".join(x.astype(str))\n",
    "    })"
   ]
  },
  {
   "cell_type": "code",
   "execution_count": 51,
   "metadata": {},
   "outputs": [],
   "source": [
    "bed.to_csv(\"proc/inspect.bed\", sep=\"\\t\", header=False, index=False)"
   ]
  },
  {
   "cell_type": "code",
   "execution_count": null,
   "metadata": {},
   "outputs": [],
   "source": []
  }
 ],
 "metadata": {
  "kernelspec": {
   "display_name": "Python 3 (ipykernel)",
   "language": "python",
   "name": "python3"
  },
  "language_info": {
   "codemirror_mode": {
    "name": "ipython",
    "version": 3
   },
   "file_extension": ".py",
   "mimetype": "text/x-python",
   "name": "python",
   "nbconvert_exporter": "python",
   "pygments_lexer": "ipython3",
   "version": "3.10.13"
  }
 },
 "nbformat": 4,
 "nbformat_minor": 2
}
